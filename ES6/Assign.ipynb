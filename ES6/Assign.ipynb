{
 "cells": [
  {
   "cell_type": "markdown",
   "id": "ef3c51d2",
   "metadata": {},
   "source": [
    "# Assign"
   ]
  },
  {
   "cell_type": "code",
   "execution_count": 2,
   "id": "bd2c9b7a",
   "metadata": {
    "scrolled": true
   },
   "outputs": [
    {
     "data": {
      "text/plain": [
       "[\n",
       "  { id: 1, name: 'Antonin Januska', role: 'author' },\n",
       "  { id: 2, name: 'JK Rowling', role: 'real author' }\n",
       "]"
      ]
     },
     "execution_count": 2,
     "metadata": {},
     "output_type": "execute_result"
    }
   ],
   "source": [
    "var _= require('lodash');\n",
    "var postAuthors = {\n",
    "    'Antonin Januska': {id: 1, name:'Antonin Januska' , role:  'author'},\n",
    "    'JK Rowling': { id: 2, name: 'JK Rowling', role: 'real author'}\n",
    "};\n",
    "\n",
    "_.toArray(postAuthors);"
   ]
  },
  {
   "cell_type": "code",
   "execution_count": null,
   "id": "cbece6c1",
   "metadata": {},
   "outputs": [],
   "source": []
  }
 ],
 "metadata": {
  "kernelspec": {
   "display_name": "JavaScript (Node.js)",
   "language": "javascript",
   "name": "javascript"
  },
  "language_info": {
   "file_extension": ".js",
   "mimetype": "application/javascript",
   "name": "javascript",
   "version": "16.17.1"
  }
 },
 "nbformat": 4,
 "nbformat_minor": 5
}
