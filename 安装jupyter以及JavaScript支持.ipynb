{
 "cells": [
  {
   "cell_type": "markdown",
   "id": "374dc1c6",
   "metadata": {},
   "source": [
    "# 安装Jupyter以及Javscript支持\n",
    "\n",
    "**首先你需要安装anaconda**\n",
    "1. 随便打开一个命令行，输入`conda install jupyter notebook`。\n",
    "2. 等待安装完成之后输入`jupyter notebook`验证是否安装成功。\n",
    "3. 修改主目录\n",
    "> - 命令行输入` jupyter notebook --generate-config`。\n",
    "> - 在`C:\\Users\\用户\\.jyupyter`目录下会生成配置文件。\n",
    ">> 修改配置文件`NotebookApp.notebook_dir = '你的目标路径'`。\n",
    "3. 安装ijavascript\n",
    "> - 使用npm全局安装ijavascript `npm i -g ijavascript`。\n",
    "> - 在全局的node_module中找到ijavascript,在bin目录下使用node运行ijavascript.js即可。"
   ]
  },
  {
   "cell_type": "code",
   "execution_count": null,
   "id": "a7964ba5",
   "metadata": {},
   "outputs": [],
   "source": []
  }
 ],
 "metadata": {
  "kernelspec": {
   "display_name": "JavaScript (Node.js)",
   "language": "javascript",
   "name": "javascript"
  },
  "language_info": {
   "file_extension": ".js",
   "mimetype": "application/javascript",
   "name": "javascript",
   "version": "16.17.1"
  }
 },
 "nbformat": 4,
 "nbformat_minor": 5
}
